{
 "cells": [
  {
   "cell_type": "markdown",
   "metadata": {},
   "source": [
    "# Create ATT&CK Groups Source knowledge\n",
    "---\n",
    "* Collaborators:\n",
    "    * Roberto Rodriguez (@Cyb3rWard0g)\n",
    "* References:\n",
    "    * https://python.langchain.com/en/latest/modules/indexes/getting_started.html\n",
    "    * https://www.youtube.com/watch?v=eqOfr4AGLk8"
   ]
  },
  {
   "cell_type": "markdown",
   "metadata": {},
   "source": [
    "## Import Modules"
   ]
  },
  {
   "cell_type": "code",
   "execution_count": null,
   "metadata": {},
   "outputs": [],
   "source": [
    "from attackcti import attack_client\n",
    "import os\n",
    "import logging\n",
    "\n",
    "logging.getLogger('taxii2client').setLevel(logging.CRITICAL)"
   ]
  },
  {
   "cell_type": "markdown",
   "metadata": {},
   "source": [
    "## Define Initial Variables"
   ]
  },
  {
   "cell_type": "code",
   "execution_count": null,
   "metadata": {},
   "outputs": [],
   "source": [
    "# Define a few variables\n",
    "current_directory = os.path.dirname(\"__file__\")\n",
    "documents_directory = os.path.join(current_directory, \"documents\")\n",
    "contrib_directory = os.path.join(current_directory, \"contrib\")\n",
    "embeddings_directory = os.path.join(current_directory, \"embeddings\")\n",
    "templates_directory = os.path.join(current_directory, \"templates\")\n",
    "group_template = os.path.join(templates_directory, \"group.md\")"
   ]
  },
  {
   "cell_type": "markdown",
   "metadata": {},
   "source": [
    "## Initialize ATT&CK Client"
   ]
  },
  {
   "cell_type": "code",
   "execution_count": null,
   "metadata": {},
   "outputs": [],
   "source": [
    "lift = attack_client()"
   ]
  },
  {
   "cell_type": "markdown",
   "metadata": {},
   "source": [
    "## Get ATT&CK Groups\n",
    "Gettings technique STIX objects used by all groups accross all ATT&CK matrices.."
   ]
  },
  {
   "cell_type": "code",
   "execution_count": null,
   "metadata": {},
   "outputs": [],
   "source": [
    "techniques_used_by_groups = lift.get_techniques_used_by_all_groups()\n",
    "techniques_used_by_groups[0]"
   ]
  },
  {
   "cell_type": "markdown",
   "metadata": {},
   "source": [
    "## Create ATT&CK Groups Documents"
   ]
  },
  {
   "cell_type": "code",
   "execution_count": null,
   "metadata": {},
   "outputs": [],
   "source": [
    "import copy\n",
    "from jinja2 import Template\n",
    "\n",
    "# Create Group docs\n",
    "all_groups = dict()\n",
    "for technique in techniques_used_by_groups:\n",
    "    if technique['id'] not in all_groups:\n",
    "        group = dict()\n",
    "        group['group_name'] = technique['name']\n",
    "        group['group_id'] = technique['external_references'][0]['external_id']\n",
    "        group['created'] = technique['created']\n",
    "        group['modified'] = technique['modified']\n",
    "        group['description'] = technique['description']\n",
    "        group['aliases'] = technique['aliases']\n",
    "        if 'x_mitre_contributors' in technique:\n",
    "            group['contributors'] = technique['x_mitre_contributors']\n",
    "        group['techniques'] = []\n",
    "        all_groups[technique['id']] = group\n",
    "    technique_used = dict()\n",
    "    technique_used['matrix'] = technique['matrix']\n",
    "    technique_used['domain'] = technique['x_mitre_domains']\n",
    "    technique_used['platform'] = technique['platform']\n",
    "    technique_used['tactics'] = technique['tactic']\n",
    "    technique_used['technique_id'] = technique['technique_id']\n",
    "    technique_used['technique_name'] = technique['technique']\n",
    "    technique_used['use'] = technique['relationship_description']\n",
    "    if 'data_sources' in technique:\n",
    "        technique_used['data_sources'] = technique['data_sources']\n",
    "    all_groups[technique['id']]['techniques'].append(technique_used)\n",
    "\n",
    "if not os.path.exists(documents_directory):\n",
    "   print(\"[+] Creating knowledge directory..\")\n",
    "   os.makedirs(documents_directory)\n",
    "\n",
    "print(\"[+] Creating markadown files for each group..\")\n",
    "markdown_template = Template(open(group_template).read())\n",
    "for key in list(all_groups.keys()):\n",
    "    group = all_groups[key]\n",
    "    print(\"  [>>] Creating markdown file for {}..\".format(group['group_name']))\n",
    "    group_for_render = copy.deepcopy(group)\n",
    "    markdown = markdown_template.render(metadata=group_for_render, group_name=group['group_name'], group_id=group['group_id'])\n",
    "    file_name = (group['group_name']).replace(' ','_')\n",
    "    open(f'{documents_directory}/{file_name}.md', encoding='utf-8', mode='w').write(markdown)"
   ]
  }
 ],
 "metadata": {
  "kernelspec": {
   "display_name": "Python 3 (ipykernel)",
   "language": "python",
   "name": "python3"
  },
  "language_info": {
   "codemirror_mode": {
    "name": "ipython",
    "version": 3
   },
   "file_extension": ".py",
   "mimetype": "text/x-python",
   "name": "python",
   "nbconvert_exporter": "python",
   "pygments_lexer": "ipython3",
   "version": "3.12.1"
  }
 },
 "nbformat": 4,
 "nbformat_minor": 2
}
